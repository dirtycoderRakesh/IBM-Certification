{
 "cells": [
  {
   "cell_type": "markdown",
   "id": "1dce25da-5516-4d99-a848-c606dfbbc083",
   "metadata": {},
   "source": [
    "<h1>My Jupyter Notebook on IBM Watson Studio</h1>"
   ]
  },
  {
   "cell_type": "markdown",
   "id": "dc14acde-24bd-42a3-8c40-d4eab5a262c8",
   "metadata": {},
   "source": [
    "<b>Rakesh Kumar, Head of Regulatory Analytics</b>"
   ]
  },
  {
   "cell_type": "markdown",
   "id": "9b5e785b-0457-4339-8fce-e9e5f9cc4dcb",
   "metadata": {},
   "source": [
    "<i>I am interested in Data Science to derive insights from data and support decision making</i>"
   ]
  },
  {
   "cell_type": "markdown",
   "id": "b48759c9-d133-4783-a06f-b0a3bc718a1a",
   "metadata": {},
   "source": [
    "<h3> The following code sums up 1 +1 and shows results. </h3>"
   ]
  },
  {
   "cell_type": "code",
   "execution_count": 12,
   "id": "4a2ce518-9633-49f3-8bd8-6f80cbe72a87",
   "metadata": {},
   "outputs": [
    {
     "data": {
      "text/plain": [
       "2"
      ]
     },
     "execution_count": 12,
     "metadata": {},
     "output_type": "execute_result"
    }
   ],
   "source": [
    "1 + 1"
   ]
  },
  {
   "cell_type": "markdown",
   "id": "0479dda5-2006-4298-9fb6-7a0605feb04f",
   "metadata": {},
   "source": [
    "---\n",
    "<ol>\n",
    "<li>Apple</li>\n",
    "<li>Ball</li>\n",
    "<li>Car</li>\n",
    "</ol>\n",
    "<ul>\n",
    "<li>Apple</li>\n",
    "<li>Ball</li>\n",
    "<li>Car</li>\n",
    "</ul>"
   ]
  }
 ],
 "metadata": {
  "kernelspec": {
   "display_name": "Python 3 (ipykernel)",
   "language": "python",
   "name": "python3"
  },
  "language_info": {
   "codemirror_mode": {
    "name": "ipython",
    "version": 3
   },
   "file_extension": ".py",
   "mimetype": "text/x-python",
   "name": "python",
   "nbconvert_exporter": "python",
   "pygments_lexer": "ipython3",
   "version": "3.11.0"
  }
 },
 "nbformat": 4,
 "nbformat_minor": 5
}
